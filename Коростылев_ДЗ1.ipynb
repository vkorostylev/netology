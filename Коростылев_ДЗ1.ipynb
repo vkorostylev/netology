{
 "cells": [
  {
   "cell_type": "markdown",
   "metadata": {},
   "source": [
    "# 1 Задание"
   ]
  },
  {
   "cell_type": "code",
   "execution_count": 2,
   "metadata": {},
   "outputs": [],
   "source": [
    "long_phrase = 'Насколько проще было бы писать программы, если бы не заказчики'\n",
    "short_phrase = '640Кб должно хватить для любых задач. Билл Гейтс (по легенде)'"
   ]
  },
  {
   "cell_type": "code",
   "execution_count": 3,
   "metadata": {},
   "outputs": [
    {
     "data": {
      "text/plain": [
       "True"
      ]
     },
     "execution_count": 3,
     "metadata": {},
     "output_type": "execute_result"
    }
   ],
   "source": [
    "len(long_phrase)>len(short_phrase)"
   ]
  },
  {
   "cell_type": "markdown",
   "metadata": {},
   "source": [
    "# 2 Задание"
   ]
  },
  {
   "cell_type": "code",
   "execution_count": 13,
   "metadata": {},
   "outputs": [
    {
     "name": "stdout",
     "output_type": "stream",
     "text": [
      "Чаще встречается буква А\n"
     ]
    }
   ],
   "source": [
    "text = 'Если программист в 9-00 утра на работе, значит, он там и ночевал'\n",
    "if int(text.count(\"а\"))>int(text.count(\"и\")):\n",
    "    print(\"Чаще встречается буква А\")\n",
    "else:\n",
    "    print(\"Чаще встречается буква И\")"
   ]
  },
  {
   "cell_type": "markdown",
   "metadata": {},
   "source": [
    "# 3 Здание"
   ]
  },
  {
   "cell_type": "code",
   "execution_count": 8,
   "metadata": {},
   "outputs": [
    {
     "name": "stdout",
     "output_type": "stream",
     "text": [
      "Вес файла в байтах: 1048576\n"
     ]
    }
   ],
   "source": [
    "file_size_byte = int(input(\"Вес файла в байтах: \"))\n"
   ]
  },
  {
   "cell_type": "code",
   "execution_count": 9,
   "metadata": {},
   "outputs": [
    {
     "name": "stdout",
     "output_type": "stream",
     "text": [
      "Объем файла равен  1.0 Mb\n"
     ]
    }
   ],
   "source": [
    "file_size_megabyte=file_size_byte/(1024**2)\n",
    "print(\"Объем файла равен \",file_size_megabyte,\"Mb\")"
   ]
  },
  {
   "cell_type": "markdown",
   "metadata": {},
   "source": [
    "# 4 Задание"
   ]
  },
  {
   "cell_type": "code",
   "execution_count": 28,
   "metadata": {},
   "outputs": [
    {
     "name": "stdout",
     "output_type": "stream",
     "text": [
      "Синус какого угла вычислить?: 30\n",
      "число в градусах?(Y/n): Y\n",
      "0.49999999999999994\n"
     ]
    }
   ],
   "source": [
    "angle=int(input(\"Синус какого угла вычислить?: \"))\n",
    "proverka=input(\"число в градусах?(Y/n): \")\n",
    "import math\n",
    "if proverka==\"Y\":\n",
    "    sin=math.sin(math.radians(angle))\n",
    "else:\n",
    "    sin=math.sin(angle)\n",
    "print(sin)"
   ]
  },
  {
   "cell_type": "markdown",
   "metadata": {},
   "source": [
    "# 5 Задание"
   ]
  },
  {
   "cell_type": "code",
   "execution_count": 29,
   "metadata": {},
   "outputs": [
    {
     "data": {
      "text/plain": [
       "0.30000000000000004"
      ]
     },
     "execution_count": 29,
     "metadata": {},
     "output_type": "execute_result"
    }
   ],
   "source": [
    "0.1+0.2"
   ]
  },
  {
   "cell_type": "code",
   "execution_count": 30,
   "metadata": {},
   "outputs": [],
   "source": [
    "#Нашел следующий ответ в интернете: \"Потому что оба эти числа представляются в двоичной \n",
    "#системе бесконечными дробями, которые при представлении в компьютере, естественно, округляются.\"\n",
    "\n",
    "#видимо, это техническая особенность вычислений на компьютере"
   ]
  },
  {
   "cell_type": "markdown",
   "metadata": {},
   "source": [
    "# Задания посложнее"
   ]
  },
  {
   "cell_type": "code",
   "execution_count": 35,
   "metadata": {},
   "outputs": [
    {
     "name": "stdout",
     "output_type": "stream",
     "text": [
      "Введите первое значение: 1\n",
      "Введите второе значение: 3\n",
      "Второе значение = 3\n",
      "Первое значение = 1\n"
     ]
    }
   ],
   "source": [
    "a = int(input('Введите первое значение: '))\n",
    "b = int(input('Введите второе значение: '))\n",
    " \n",
    "a = a + b\n",
    "b = a - b\n",
    "a = a - b\n",
    " \n",
    "print('Второе значение =', a)\n",
    "print('Первое значение =', b)"
   ]
  },
  {
   "cell_type": "code",
   "execution_count": 62,
   "metadata": {},
   "outputs": [
    {
     "name": "stdout",
     "output_type": "stream",
     "text": [
      "Введите число в двоичном коде10011\n",
      "Это же число в десятичном виде: 19\n"
     ]
    }
   ],
   "source": [
    "num=input(\"Введите число в двоичном коде\")\n",
    "num=str(num)\n",
    "n=len(num)-1\n",
    "i=0\n",
    "dec=0\n",
    "while i<len(num):\n",
    "    dec=dec+int(num[i])*2**(n)\n",
    "    i=i+1\n",
    "    n=n-1\n",
    "print(\"Это же число в десятичном виде:\", dec)"
   ]
  },
  {
   "cell_type": "code",
   "execution_count": null,
   "metadata": {},
   "outputs": [],
   "source": []
  }
 ],
 "metadata": {
  "kernelspec": {
   "display_name": "Python 3",
   "language": "python",
   "name": "python3"
  },
  "language_info": {
   "codemirror_mode": {
    "name": "ipython",
    "version": 3
   },
   "file_extension": ".py",
   "mimetype": "text/x-python",
   "name": "python",
   "nbconvert_exporter": "python",
   "pygments_lexer": "ipython3",
   "version": "3.7.3"
  }
 },
 "nbformat": 4,
 "nbformat_minor": 2
}
