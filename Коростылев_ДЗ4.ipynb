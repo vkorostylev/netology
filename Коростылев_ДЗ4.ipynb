{
 "cells": [
  {
   "cell_type": "markdown",
   "metadata": {},
   "source": [
    "# Задание 1\n",
    "Напишите функцию date_range, которая возвращает список дней между датами start_date и end_date. Даты должны вводиться в формате YYYY-MM-DD."
   ]
  },
  {
   "cell_type": "code",
   "execution_count": 16,
   "metadata": {},
   "outputs": [],
   "source": [
    "def date_range(start_date, end_date):\n",
    "    import datetime\n",
    "    start_date_dt=datetime.datetime.strptime(start_date, '%Y-%m-%d')\n",
    "    end_date_dt=datetime.datetime.strptime(end_date, '%Y-%m-%d')\n",
    "    list_=[]\n",
    "    while start_date_dt<=end_date_dt:\n",
    "        list_.append(start_date_dt)\n",
    "        start_date_dt = start_date_dt+ datetime.timedelta(days = 1)\n",
    "    return list_"
   ]
  },
  {
   "cell_type": "code",
   "execution_count": 17,
   "metadata": {},
   "outputs": [
    {
     "data": {
      "text/plain": [
       "[datetime.datetime(2008, 2, 2, 0, 0),\n",
       " datetime.datetime(2008, 2, 3, 0, 0),\n",
       " datetime.datetime(2008, 2, 4, 0, 0),\n",
       " datetime.datetime(2008, 2, 5, 0, 0),\n",
       " datetime.datetime(2008, 2, 6, 0, 0),\n",
       " datetime.datetime(2008, 2, 7, 0, 0),\n",
       " datetime.datetime(2008, 2, 8, 0, 0),\n",
       " datetime.datetime(2008, 2, 9, 0, 0),\n",
       " datetime.datetime(2008, 2, 10, 0, 0)]"
      ]
     },
     "execution_count": 17,
     "metadata": {},
     "output_type": "execute_result"
    }
   ],
   "source": [
    "date_range('2008-02-02','2008-02-10')"
   ]
  },
  {
   "cell_type": "markdown",
   "metadata": {},
   "source": [
    "# Задание 2\n",
    "Дополните функцию из первого задания проверкой на корректность дат. В случае неверного формата или если start_date > end_date должен возвращаться пустой список."
   ]
  },
  {
   "cell_type": "code",
   "execution_count": 24,
   "metadata": {},
   "outputs": [],
   "source": [
    "def date_range1(start_date, end_date):\n",
    "    import datetime\n",
    "    list_=[]\n",
    "    try:\n",
    "        start_date_dt=datetime.datetime.strptime(start_date, '%Y-%m-%d')\n",
    "        end_date_dt=datetime.datetime.strptime(end_date, '%Y-%m-%d')\n",
    "        if start_date<end_date:\n",
    "            while start_date_dt<=end_date_dt:\n",
    "                list_.append(start_date_dt)\n",
    "                start_date_dt = start_date_dt+ datetime.timedelta(days = 1)\n",
    "            return list_\n",
    "        else:\n",
    "            return list_\n",
    "    except:\n",
    "        return list_"
   ]
  },
  {
   "cell_type": "code",
   "execution_count": 26,
   "metadata": {},
   "outputs": [
    {
     "data": {
      "text/plain": [
       "[]"
      ]
     },
     "execution_count": 26,
     "metadata": {},
     "output_type": "execute_result"
    }
   ],
   "source": [
    "date_range1('2008-02-12211','2008-02-10')"
   ]
  },
  {
   "cell_type": "markdown",
   "metadata": {},
   "source": [
    "# Задание 3\n",
    "Дан поток дат в формате YYYY-MM-DD, в которых встречаются некорректные значения. Напишите функцию, которая проверяет эти даты на корректность. Т. е. для каждой даты возвращает True (дата корректна) или False (некорректная дата)."
   ]
  },
  {
   "cell_type": "code",
   "execution_count": 28,
   "metadata": {},
   "outputs": [],
   "source": [
    "stream = ['2018-04-02', '2018-02-29', '2018-19-02']"
   ]
  },
  {
   "cell_type": "code",
   "execution_count": 41,
   "metadata": {},
   "outputs": [],
   "source": [
    "def validate(df):\n",
    "    import datetime\n",
    "    output=[]\n",
    "    for k in df:\n",
    "        try:\n",
    "            output.append({datetime.datetime.strptime(k, '%Y-%m-%d'):'True'})\n",
    "        except:\n",
    "            output.append({k:'False'})\n",
    "    return output\n",
    "            \n",
    "            "
   ]
  },
  {
   "cell_type": "code",
   "execution_count": 42,
   "metadata": {},
   "outputs": [
    {
     "data": {
      "text/plain": [
       "[{datetime.datetime(2018, 4, 2, 0, 0): 'True'},\n",
       " {'2018-02-29': 'False'},\n",
       " {'2018-19-02': 'False'}]"
      ]
     },
     "execution_count": 42,
     "metadata": {},
     "output_type": "execute_result"
    }
   ],
   "source": [
    "validate(stream)"
   ]
  },
  {
   "cell_type": "markdown",
   "metadata": {},
   "source": [
    "# Задание 4\n",
    "Напишите функцию, которая возвращает список дат с 1 по вчерашний день текущего месяца. Если дан 1 день месяца, то возвращается список дней прошлого месяца."
   ]
  },
  {
   "cell_type": "code",
   "execution_count": 2,
   "metadata": {},
   "outputs": [],
   "source": [
    "\n",
    "    "
   ]
  },
  {
   "cell_type": "code",
   "execution_count": 78,
   "metadata": {},
   "outputs": [],
   "source": [
    "def range_till_now():\n",
    "    import datetime\n",
    "    i=1\n",
    "    now = datetime.datetime.now()\n",
    "    if now.day ==1:\n",
    "        new_now=now-datetime.timedelta(days = 1)\n",
    "        while i<=new_now.day:\n",
    "            print(now.year,new_now.month,i)\n",
    "            i=i+1\n",
    "    else:\n",
    "        while i<now.day:\n",
    "            print(now.year,now.month,i)\n",
    "            i=i+1"
   ]
  },
  {
   "cell_type": "code",
   "execution_count": 79,
   "metadata": {},
   "outputs": [
    {
     "name": "stdout",
     "output_type": "stream",
     "text": [
      "2019 5 1\n",
      "2019 5 2\n",
      "2019 5 3\n",
      "2019 5 4\n",
      "2019 5 5\n",
      "2019 5 6\n",
      "2019 5 7\n",
      "2019 5 8\n",
      "2019 5 9\n",
      "2019 5 10\n",
      "2019 5 11\n",
      "2019 5 12\n",
      "2019 5 13\n",
      "2019 5 14\n",
      "2019 5 15\n",
      "2019 5 16\n",
      "2019 5 17\n",
      "2019 5 18\n",
      "2019 5 19\n",
      "2019 5 20\n",
      "2019 5 21\n",
      "2019 5 22\n",
      "2019 5 23\n",
      "2019 5 24\n",
      "2019 5 25\n",
      "2019 5 26\n",
      "2019 5 27\n"
     ]
    }
   ],
   "source": [
    "range_till_now()"
   ]
  },
  {
   "cell_type": "code",
   "execution_count": 73,
   "metadata": {},
   "outputs": [
    {
     "name": "stdout",
     "output_type": "stream",
     "text": [
      "2019 4 1\n",
      "2019 4 2\n",
      "2019 4 3\n",
      "2019 4 4\n",
      "2019 4 5\n",
      "2019 4 6\n",
      "2019 4 7\n",
      "2019 4 8\n",
      "2019 4 9\n",
      "2019 4 10\n",
      "2019 4 11\n",
      "2019 4 12\n",
      "2019 4 13\n",
      "2019 4 14\n",
      "2019 4 15\n",
      "2019 4 16\n",
      "2019 4 17\n",
      "2019 4 18\n",
      "2019 4 19\n",
      "2019 4 20\n",
      "2019 4 21\n",
      "2019 4 22\n",
      "2019 4 23\n",
      "2019 4 24\n",
      "2019 4 25\n",
      "2019 4 26\n",
      "2019 4 27\n",
      "2019 4 28\n",
      "2019 4 29\n",
      "2019 4 30\n"
     ]
    }
   ],
   "source": []
  },
  {
   "cell_type": "code",
   "execution_count": 63,
   "metadata": {},
   "outputs": [
    {
     "data": {
      "text/plain": [
       "1"
      ]
     },
     "execution_count": 63,
     "metadata": {},
     "output_type": "execute_result"
    }
   ],
   "source": [
    "now.day"
   ]
  },
  {
   "cell_type": "code",
   "execution_count": null,
   "metadata": {},
   "outputs": [],
   "source": []
  }
 ],
 "metadata": {
  "kernelspec": {
   "display_name": "Python 3",
   "language": "python",
   "name": "python3"
  },
  "language_info": {
   "codemirror_mode": {
    "name": "ipython",
    "version": 3
   },
   "file_extension": ".py",
   "mimetype": "text/x-python",
   "name": "python",
   "nbconvert_exporter": "python",
   "pygments_lexer": "ipython3",
   "version": "3.7.3"
  }
 },
 "nbformat": 4,
 "nbformat_minor": 2
}
